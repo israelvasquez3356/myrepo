{
 "cells": [
  {
   "cell_type": "markdown",
   "metadata": {},
   "source": [
    "## Project 3\n",
    "### Israel Vasquez iv3356"
   ]
  },
  {
   "cell_type": "code",
   "execution_count": 1,
   "metadata": {},
   "outputs": [],
   "source": [
    "import numpy as np\n",
    "import pandas as pd\n",
    "import seaborn as sns"
   ]
  },
  {
   "cell_type": "code",
   "execution_count": 7,
   "metadata": {},
   "outputs": [],
   "source": [
    "gdp = pd.read_csv(\"C:/Users/israe/Documents/RStuff/GrowthSW.csv\", index_col = 0)"
   ]
  },
  {
   "cell_type": "code",
   "execution_count": 9,
   "metadata": {},
   "outputs": [
    {
     "name": "stdout",
     "output_type": "stream",
     "text": [
      "<class 'pandas.core.frame.DataFrame'>\n",
      "Int64Index: 65 entries, 1 to 65\n",
      "Data columns (total 7 columns):\n",
      " #   Column          Non-Null Count  Dtype  \n",
      "---  ------          --------------  -----  \n",
      " 0   country         65 non-null     object \n",
      " 1   growth          65 non-null     float64\n",
      " 2   rgdp60          65 non-null     float64\n",
      " 3   tradeshare      65 non-null     float64\n",
      " 4   education       65 non-null     float64\n",
      " 5   revolutions     65 non-null     float64\n",
      " 6   assassinations  65 non-null     float64\n",
      "dtypes: float64(6), object(1)\n",
      "memory usage: 4.1+ KB\n"
     ]
    }
   ],
   "source": [
    "gdp.info()"
   ]
  },
  {
   "cell_type": "markdown",
   "metadata": {},
   "source": [
    "#### Description of Data\n",
    "This dataset was used in both projects 1 and 2. It contains six variables and 65 observations. The datasset explores determinants of economic growth. The variables are \"growth\" the average percentage change in gdp from 1960-1995, \"rgdp60\" the gdp per capita in the year 1960 (in USD), \"education\" the average number of years of schooling adult residents received, \"tradeshare\" the sum of exports and imports divided by GDP, \"revolutions\" the average annual number of revolutions/coups/insurrections from 1960-1995, and \"assassinations\" the average annual number of political assassinations from 1960-1995 (in per million population)."
   ]
  },
  {
   "cell_type": "code",
   "execution_count": 13,
   "metadata": {},
   "outputs": [
    {
     "data": {
      "text/plain": [
       "3103.7846486769236"
      ]
     },
     "execution_count": 13,
     "metadata": {},
     "output_type": "execute_result"
    }
   ],
   "source": [
    "np.mean(gdp.rgdp60)"
   ]
  },
  {
   "cell_type": "markdown",
   "metadata": {},
   "source": [
    "The mean gdp per capita in the year 1960 was about 3103.78 USD"
   ]
  },
  {
   "cell_type": "code",
   "execution_count": 24,
   "metadata": {},
   "outputs": [
    {
     "data": {
      "text/plain": [
       "yes    52\n",
       "no     13\n",
       "Name: political_violence, dtype: int64"
      ]
     },
     "execution_count": 24,
     "metadata": {},
     "output_type": "execute_result"
    }
   ],
   "source": [
    "gdp['political_violence']= np.where((gdp.revolutions > 0) | (gdp.assassinations > 0),'yes','no')\n",
    "gdp.political_violence.value_counts()"
   ]
  },
  {
   "cell_type": "markdown",
   "metadata": {},
   "source": [
    "A categorical variable was created based on whether or not there was political violence (assassinations or revolutions) present with a response of 'yes' or 'no'. There were 52 countries where political violence was present, and 13 countries where political violence was not present."
   ]
  },
  {
   "cell_type": "markdown",
   "metadata": {},
   "source": [
    "#### Visualization"
   ]
  },
  {
   "cell_type": "code",
   "execution_count": 29,
   "metadata": {},
   "outputs": [
    {
     "data": {
      "text/plain": [
       "<AxesSubplot:xlabel='education', ylabel='rgdp60'>"
      ]
     },
     "execution_count": 29,
     "metadata": {},
     "output_type": "execute_result"
    },
    {
     "data": {
      "image/png": "[encoded data removed]",
      "text/plain": [
       "<Figure size 432x288 with 1 Axes>"
      ]
     },
     "metadata": {
      "needs_background": "light"
     },
     "output_type": "display_data"
    }
   ],
   "source": [
    "sns.scatterplot(x = 'education', y = 'rgdp60', hue = 'political_violence', data = gdp)"
   ]
  },
  {
   "cell_type": "markdown",
   "metadata": {},
   "source": [
    "This visualization shows how education levels and the presence of politcal violence are related to gdp per capita. There seems to be a positive correlation between education levels and gdp per capita, while political violence seems to have no effect on gdp per capita."
   ]
  },
  {
   "cell_type": "code",
   "execution_count": null,
   "metadata": {},
   "outputs": [],
   "source": []
  }
 ],
 "metadata": {
  "kernelspec": {
   "display_name": "Python 3",
   "language": "python",
   "name": "python3"
  },
  "language_info": {
   "codemirror_mode": {
    "name": "ipython",
    "version": 3
   },
   "file_extension": ".py",
   "mimetype": "text/x-python",
   "name": "python",
   "nbconvert_exporter": "python",
   "pygments_lexer": "ipython3",
   "version": "3.8.5"
  }
 },
 "nbformat": 4,
 "nbformat_minor": 4
}
